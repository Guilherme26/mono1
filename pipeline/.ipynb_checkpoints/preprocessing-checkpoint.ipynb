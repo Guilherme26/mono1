{
 "cells": [
  {
   "cell_type": "code",
   "execution_count": 1,
   "metadata": {},
   "outputs": [],
   "source": [
    "import pandas as pd\n",
    "import matplotlib.pyplot as plt\n",
    "\n",
    "import networkx as nx\n",
    "import missingno as msno"
   ]
  },
  {
   "cell_type": "code",
   "execution_count": 2,
   "metadata": {},
   "outputs": [],
   "source": [
    "medias = pd.read_csv(\"../data/medias.csv\")"
   ]
  },
  {
   "cell_type": "code",
   "execution_count": 3,
   "metadata": {},
   "outputs": [
    {
     "data": {
      "text/html": [
       "<div>\n",
       "<style scoped>\n",
       "    .dataframe tbody tr th:only-of-type {\n",
       "        vertical-align: middle;\n",
       "    }\n",
       "\n",
       "    .dataframe tbody tr th {\n",
       "        vertical-align: top;\n",
       "    }\n",
       "\n",
       "    .dataframe thead th {\n",
       "        text-align: right;\n",
       "    }\n",
       "</style>\n",
       "<table border=\"1\" class=\"dataframe\">\n",
       "  <thead>\n",
       "    <tr style=\"text-align: right;\">\n",
       "      <th></th>\n",
       "      <th>media_short_code</th>\n",
       "      <th>media_created_time_str</th>\n",
       "      <th>media_author</th>\n",
       "      <th>media_likes_count</th>\n",
       "      <th>media_caption</th>\n",
       "      <th>media_accessibility_caption</th>\n",
       "      <th>media_mentioned_usernames</th>\n",
       "      <th>media_tags</th>\n",
       "      <th>profile_followed_by</th>\n",
       "      <th>category_1</th>\n",
       "      <th>category_2</th>\n",
       "      <th>category_3</th>\n",
       "      <th>comments_nb</th>\n",
       "      <th>comments_commenters_nb</th>\n",
       "      <th>comments_self_nb</th>\n",
       "    </tr>\n",
       "  </thead>\n",
       "  <tbody>\n",
       "    <tr>\n",
       "      <th>20083</th>\n",
       "      <td>BzWZTJ4AHfq</td>\n",
       "      <td>2019-06-30 22:07:04</td>\n",
       "      <td>vascorossi</td>\n",
       "      <td>25434</td>\n",
       "      <td>il Record Mondiale..il più grande raduno rock ...</td>\n",
       "      <td>NaN</td>\n",
       "      <td>[]</td>\n",
       "      <td>[\"vascononstoplive\",\"ilredeglistadi\",\"modenapa...</td>\n",
       "      <td>1055154</td>\n",
       "      <td>Music</td>\n",
       "      <td>-</td>\n",
       "      <td>-</td>\n",
       "      <td>219</td>\n",
       "      <td>520</td>\n",
       "      <td>0</td>\n",
       "    </tr>\n",
       "    <tr>\n",
       "      <th>20084</th>\n",
       "      <td>BzWcaE6H4Cb</td>\n",
       "      <td>2019-06-30 22:36:58</td>\n",
       "      <td>officialasroma</td>\n",
       "      <td>38130</td>\n",
       "      <td>Official: Leonardo Spinazzola is now a Roma pl...</td>\n",
       "      <td>NaN</td>\n",
       "      <td>[\"telefono_azzurro\",\"missingkids⁣⁣⁣\"]</td>\n",
       "      <td>[\"asroma\"]</td>\n",
       "      <td>2732764</td>\n",
       "      <td>Sport</td>\n",
       "      <td>-</td>\n",
       "      <td>-</td>\n",
       "      <td>603</td>\n",
       "      <td>425</td>\n",
       "      <td>3</td>\n",
       "    </tr>\n",
       "    <tr>\n",
       "      <th>20085</th>\n",
       "      <td>BzWjdV_CBht</td>\n",
       "      <td>2019-06-30 23:30:29</td>\n",
       "      <td>francesco.bocciaofficial</td>\n",
       "      <td>75</td>\n",
       "      <td>Il calcio scatena sempre quella stessa passion...</td>\n",
       "      <td>Image may contain: one or more people, stadium...</td>\n",
       "      <td>[]</td>\n",
       "      <td>[\"soccer\",\"eu\",\"futbol\",\"instagtam\",\"romania\",...</td>\n",
       "      <td>7510</td>\n",
       "      <td>Politics</td>\n",
       "      <td>-</td>\n",
       "      <td>pd</td>\n",
       "      <td>3</td>\n",
       "      <td>3</td>\n",
       "      <td>0</td>\n",
       "    </tr>\n",
       "  </tbody>\n",
       "</table>\n",
       "</div>"
      ],
      "text/plain": [
       "      media_short_code media_created_time_str              media_author  \\\n",
       "20083      BzWZTJ4AHfq    2019-06-30 22:07:04                vascorossi   \n",
       "20084      BzWcaE6H4Cb    2019-06-30 22:36:58            officialasroma   \n",
       "20085      BzWjdV_CBht    2019-06-30 23:30:29  francesco.bocciaofficial   \n",
       "\n",
       "       media_likes_count                                      media_caption  \\\n",
       "20083              25434  il Record Mondiale..il più grande raduno rock ...   \n",
       "20084              38130  Official: Leonardo Spinazzola is now a Roma pl...   \n",
       "20085                 75  Il calcio scatena sempre quella stessa passion...   \n",
       "\n",
       "                             media_accessibility_caption  \\\n",
       "20083                                                NaN   \n",
       "20084                                                NaN   \n",
       "20085  Image may contain: one or more people, stadium...   \n",
       "\n",
       "                   media_mentioned_usernames  \\\n",
       "20083                                     []   \n",
       "20084  [\"telefono_azzurro\",\"missingkids⁣⁣⁣\"]   \n",
       "20085                                     []   \n",
       "\n",
       "                                              media_tags  profile_followed_by  \\\n",
       "20083  [\"vascononstoplive\",\"ilredeglistadi\",\"modenapa...              1055154   \n",
       "20084                                         [\"asroma\"]              2732764   \n",
       "20085  [\"soccer\",\"eu\",\"futbol\",\"instagtam\",\"romania\",...                 7510   \n",
       "\n",
       "      category_1 category_2 category_3  comments_nb  comments_commenters_nb  \\\n",
       "20083      Music          -          -          219                     520   \n",
       "20084      Sport          -          -          603                     425   \n",
       "20085   Politics          -         pd            3                       3   \n",
       "\n",
       "       comments_self_nb  \n",
       "20083                 0  \n",
       "20084                 3  \n",
       "20085                 0  "
      ]
     },
     "execution_count": 3,
     "metadata": {},
     "output_type": "execute_result"
    }
   ],
   "source": [
    "medias.tail(3)"
   ]
  },
  {
   "cell_type": "code",
   "execution_count": 4,
   "metadata": {},
   "outputs": [
    {
     "name": "stdout",
     "output_type": "stream",
     "text": [
      "The number of null values in each column\n",
      "media_short_code                  0\n",
      "media_created_time_str            0\n",
      "media_author                      0\n",
      "media_likes_count                 0\n",
      "media_caption                    12\n",
      "media_accessibility_caption    4286\n",
      "media_mentioned_usernames         0\n",
      "media_tags                        0\n",
      "profile_followed_by               0\n",
      "category_1                        0\n",
      "category_2                        0\n",
      "category_3                        0\n",
      "comments_nb                       0\n",
      "comments_commenters_nb            0\n",
      "comments_self_nb                  0\n",
      "dtype: int64\n"
     ]
    }
   ],
   "source": [
    "print(\"The number of null values in each column\\n%s\" % medias.isna().sum())"
   ]
  },
  {
   "cell_type": "code",
   "execution_count": 5,
   "metadata": {},
   "outputs": [],
   "source": [
    "profiles = pd.read_csv(\"../data/profiles.csv\")"
   ]
  },
  {
   "cell_type": "code",
   "execution_count": 6,
   "metadata": {},
   "outputs": [
    {
     "data": {
      "text/html": [
       "<div>\n",
       "<style scoped>\n",
       "    .dataframe tbody tr th:only-of-type {\n",
       "        vertical-align: middle;\n",
       "    }\n",
       "\n",
       "    .dataframe tbody tr th {\n",
       "        vertical-align: top;\n",
       "    }\n",
       "\n",
       "    .dataframe thead th {\n",
       "        text-align: right;\n",
       "    }\n",
       "</style>\n",
       "<table border=\"1\" class=\"dataframe\">\n",
       "  <thead>\n",
       "    <tr style=\"text-align: right;\">\n",
       "      <th></th>\n",
       "      <th>profile_username</th>\n",
       "      <th>profile_biography</th>\n",
       "      <th>profile_category</th>\n",
       "      <th>profile_full_name</th>\n",
       "      <th>profile_followed_by</th>\n",
       "      <th>profile_follow</th>\n",
       "      <th>category_1</th>\n",
       "      <th>category_2</th>\n",
       "      <th>category_3</th>\n",
       "      <th>medias_nb</th>\n",
       "      <th>comments_nb</th>\n",
       "      <th>comments_commenters_nb</th>\n",
       "      <th>comments_self_nb</th>\n",
       "    </tr>\n",
       "  </thead>\n",
       "  <tbody>\n",
       "    <tr>\n",
       "      <th>260</th>\n",
       "      <td>associazionerousseau</td>\n",
       "      <td>#Rousseau è il sistema operativo del MoVimento...</td>\n",
       "      <td>NaN</td>\n",
       "      <td>Associazione Rousseau</td>\n",
       "      <td>2479</td>\n",
       "      <td>0</td>\n",
       "      <td>politics</td>\n",
       "      <td>-</td>\n",
       "      <td>m5s</td>\n",
       "      <td>1</td>\n",
       "      <td>5</td>\n",
       "      <td>5</td>\n",
       "      <td>0</td>\n",
       "    </tr>\n",
       "    <tr>\n",
       "      <th>261</th>\n",
       "      <td>mauriziogasparri_official</td>\n",
       "      <td>Senatore di Forza Italia</td>\n",
       "      <td>NaN</td>\n",
       "      <td>Maurizio Gasparri</td>\n",
       "      <td>2009</td>\n",
       "      <td>87</td>\n",
       "      <td>politics</td>\n",
       "      <td>-</td>\n",
       "      <td>fi</td>\n",
       "      <td>13</td>\n",
       "      <td>23</td>\n",
       "      <td>14</td>\n",
       "      <td>0</td>\n",
       "    </tr>\n",
       "    <tr>\n",
       "      <th>262</th>\n",
       "      <td>paolademicheli</td>\n",
       "      <td>Mamma, moglie,  vice segretaria e deputata del...</td>\n",
       "      <td>Creators &amp; Celebrities</td>\n",
       "      <td>Paola De Micheli</td>\n",
       "      <td>1751</td>\n",
       "      <td>99</td>\n",
       "      <td>politics</td>\n",
       "      <td>-</td>\n",
       "      <td>pd</td>\n",
       "      <td>6</td>\n",
       "      <td>14</td>\n",
       "      <td>14</td>\n",
       "      <td>0</td>\n",
       "    </tr>\n",
       "  </tbody>\n",
       "</table>\n",
       "</div>"
      ],
      "text/plain": [
       "              profile_username  \\\n",
       "260       associazionerousseau   \n",
       "261  mauriziogasparri_official   \n",
       "262             paolademicheli   \n",
       "\n",
       "                                     profile_biography  \\\n",
       "260  #Rousseau è il sistema operativo del MoVimento...   \n",
       "261                           Senatore di Forza Italia   \n",
       "262  Mamma, moglie,  vice segretaria e deputata del...   \n",
       "\n",
       "           profile_category      profile_full_name  profile_followed_by  \\\n",
       "260                     NaN  Associazione Rousseau                 2479   \n",
       "261                     NaN      Maurizio Gasparri                 2009   \n",
       "262  Creators & Celebrities       Paola De Micheli                 1751   \n",
       "\n",
       "     profile_follow category_1 category_2 category_3  medias_nb  comments_nb  \\\n",
       "260               0   politics          -        m5s          1            5   \n",
       "261              87   politics          -         fi         13           23   \n",
       "262              99   politics          -         pd          6           14   \n",
       "\n",
       "     comments_commenters_nb  comments_self_nb  \n",
       "260                       5                 0  \n",
       "261                      14                 0  \n",
       "262                      14                 0  "
      ]
     },
     "execution_count": 6,
     "metadata": {},
     "output_type": "execute_result"
    }
   ],
   "source": [
    "profiles.tail(3)"
   ]
  },
  {
   "cell_type": "code",
   "execution_count": 7,
   "metadata": {},
   "outputs": [
    {
     "data": {
      "text/plain": [
       "<matplotlib.axes._subplots.AxesSubplot at 0x7fc40c69a0f0>"
      ]
     },
     "execution_count": 7,
     "metadata": {},
     "output_type": "execute_result"
    },
    {
     "data": {
      "image/png": "[encoded data removed]",
      "text/plain": [
       "<Figure size 1800x720 with 2 Axes>"
      ]
     },
     "metadata": {
      "needs_background": "light"
     },
     "output_type": "display_data"
    }
   ],
   "source": [
    "msno.matrix(profiles)"
   ]
  },
  {
   "cell_type": "code",
   "execution_count": 8,
   "metadata": {},
   "outputs": [
    {
     "name": "stdout",
     "output_type": "stream",
     "text": [
      "The number of anotated profiles: 129\n"
     ]
    }
   ],
   "source": [
    "print(\"The number of anotated profiles:\", profiles.profile_category.count())"
   ]
  },
  {
   "cell_type": "markdown",
   "metadata": {},
   "source": [
    "There are 6 skewed classes. How to deal with it? Oversampling?"
   ]
  },
  {
   "cell_type": "code",
   "execution_count": 9,
   "metadata": {},
   "outputs": [
    {
     "data": {
      "text/plain": [
       "Creators & Celebrities                   104\n",
       "Non-Profits & Religious Organizations     15\n",
       "Content & Apps                             4\n",
       "Local Events                               2\n",
       "Publishers                                 1\n",
       "Professional Services                      1\n",
       "General Interest                           1\n",
       "Home Services                              1\n",
       "Name: profile_category, dtype: int64"
      ]
     },
     "execution_count": 9,
     "metadata": {},
     "output_type": "execute_result"
    }
   ],
   "source": [
    "profiles.profile_category.value_counts()"
   ]
  },
  {
   "cell_type": "code",
   "execution_count": 24,
   "metadata": {},
   "outputs": [],
   "source": [
    "profiles_id = profiles.profile_username.dropna()"
   ]
  },
  {
   "cell_type": "code",
   "execution_count": null,
   "metadata": {},
   "outputs": [],
   "source": []
  },
  {
   "cell_type": "code",
   "execution_count": 10,
   "metadata": {},
   "outputs": [],
   "source": [
    "comments = pd.read_csv(\"../data/comments.csv\").sample(10000)"
   ]
  },
  {
   "cell_type": "code",
   "execution_count": 11,
   "metadata": {},
   "outputs": [
    {
     "data": {
      "text/html": [
       "<div>\n",
       "<style scoped>\n",
       "    .dataframe tbody tr th:only-of-type {\n",
       "        vertical-align: middle;\n",
       "    }\n",
       "\n",
       "    .dataframe tbody tr th {\n",
       "        vertical-align: top;\n",
       "    }\n",
       "\n",
       "    .dataframe thead th {\n",
       "        text-align: right;\n",
       "    }\n",
       "</style>\n",
       "<table border=\"1\" class=\"dataframe\">\n",
       "  <thead>\n",
       "    <tr style=\"text-align: right;\">\n",
       "      <th></th>\n",
       "      <th>media_short_code</th>\n",
       "      <th>media_created_time_str</th>\n",
       "      <th>media_author</th>\n",
       "      <th>media_likes_count</th>\n",
       "      <th>category_1</th>\n",
       "      <th>category_2</th>\n",
       "      <th>category_3</th>\n",
       "      <th>commenter</th>\n",
       "      <th>comment_created_time_str</th>\n",
       "      <th>comment_text</th>\n",
       "      <th>comment_mentioned_usernames</th>\n",
       "      <th>comment_tags</th>\n",
       "      <th>comment_created_time_delta</th>\n",
       "      <th>media_created_time_epoch</th>\n",
       "      <th>comment_created_time_epoch</th>\n",
       "    </tr>\n",
       "  </thead>\n",
       "  <tbody>\n",
       "    <tr>\n",
       "      <th>4982436</th>\n",
       "      <td>Bx46PdCgCV6</td>\n",
       "      <td>2019-05-25 14:41:21</td>\n",
       "      <td>matteosalviniofficial</td>\n",
       "      <td>21707.0</td>\n",
       "      <td>Politics</td>\n",
       "      <td>-</td>\n",
       "      <td>lega</td>\n",
       "      <td>tommaso_morganti</td>\n",
       "      <td>2019-05-25 17:25:27</td>\n",
       "      <td>#domenicavotolega viva il made i italy forza c...</td>\n",
       "      <td>['leonico.grossi']</td>\n",
       "      <td>['domenicavotolega']</td>\n",
       "      <td>9846.0</td>\n",
       "      <td>1.558795e+09</td>\n",
       "      <td>1.558805e+09</td>\n",
       "    </tr>\n",
       "    <tr>\n",
       "      <th>2787685</th>\n",
       "      <td>Bw9Y33klzlK</td>\n",
       "      <td>2019-05-02 11:54:11</td>\n",
       "      <td>darkpyrex777</td>\n",
       "      <td>109485.0</td>\n",
       "      <td>Music</td>\n",
       "      <td>-</td>\n",
       "      <td>-</td>\n",
       "      <td>frankgra1605</td>\n",
       "      <td>2019-05-02 12:00:29</td>\n",
       "      <td>Auguri</td>\n",
       "      <td>[]</td>\n",
       "      <td>[]</td>\n",
       "      <td>378.0</td>\n",
       "      <td>1.556798e+09</td>\n",
       "      <td>1.556798e+09</td>\n",
       "    </tr>\n",
       "    <tr>\n",
       "      <th>5089846</th>\n",
       "      <td>Bx7erDPATqT</td>\n",
       "      <td>2019-05-26 14:40:38</td>\n",
       "      <td>officialasroma</td>\n",
       "      <td>86814.0</td>\n",
       "      <td>Sport</td>\n",
       "      <td>-</td>\n",
       "      <td>-</td>\n",
       "      <td>fra_manca</td>\n",
       "      <td>2019-05-26 21:09:15</td>\n",
       "      <td>♥️♥️♥️♥️</td>\n",
       "      <td>[]</td>\n",
       "      <td>[]</td>\n",
       "      <td>23317.0</td>\n",
       "      <td>1.558882e+09</td>\n",
       "      <td>1.558905e+09</td>\n",
       "    </tr>\n",
       "  </tbody>\n",
       "</table>\n",
       "</div>"
      ],
      "text/plain": [
       "        media_short_code media_created_time_str           media_author  \\\n",
       "4982436      Bx46PdCgCV6    2019-05-25 14:41:21  matteosalviniofficial   \n",
       "2787685      Bw9Y33klzlK    2019-05-02 11:54:11           darkpyrex777   \n",
       "5089846      Bx7erDPATqT    2019-05-26 14:40:38         officialasroma   \n",
       "\n",
       "         media_likes_count category_1 category_2 category_3         commenter  \\\n",
       "4982436            21707.0   Politics          -       lega  tommaso_morganti   \n",
       "2787685           109485.0      Music          -          -      frankgra1605   \n",
       "5089846            86814.0      Sport          -          -         fra_manca   \n",
       "\n",
       "        comment_created_time_str  \\\n",
       "4982436      2019-05-25 17:25:27   \n",
       "2787685      2019-05-02 12:00:29   \n",
       "5089846      2019-05-26 21:09:15   \n",
       "\n",
       "                                              comment_text  \\\n",
       "4982436  #domenicavotolega viva il made i italy forza c...   \n",
       "2787685                                             Auguri   \n",
       "5089846                                           ♥️♥️♥️♥️   \n",
       "\n",
       "        comment_mentioned_usernames          comment_tags  \\\n",
       "4982436          ['leonico.grossi']  ['domenicavotolega']   \n",
       "2787685                          []                    []   \n",
       "5089846                          []                    []   \n",
       "\n",
       "         comment_created_time_delta  media_created_time_epoch  \\\n",
       "4982436                      9846.0              1.558795e+09   \n",
       "2787685                       378.0              1.556798e+09   \n",
       "5089846                     23317.0              1.558882e+09   \n",
       "\n",
       "         comment_created_time_epoch  \n",
       "4982436                1.558805e+09  \n",
       "2787685                1.556798e+09  \n",
       "5089846                1.558905e+09  "
      ]
     },
     "execution_count": 11,
     "metadata": {},
     "output_type": "execute_result"
    }
   ],
   "source": [
    "comments.tail(3)"
   ]
  },
  {
   "cell_type": "code",
   "execution_count": 12,
   "metadata": {},
   "outputs": [
    {
     "name": "stdout",
     "output_type": "stream",
     "text": [
      "The number of null values in each column\n",
      "media_short_code               0\n",
      "media_created_time_str         0\n",
      "media_author                   0\n",
      "media_likes_count              0\n",
      "category_1                     0\n",
      "category_2                     0\n",
      "category_3                     0\n",
      "commenter                      0\n",
      "comment_created_time_str       0\n",
      "comment_text                   0\n",
      "comment_mentioned_usernames    0\n",
      "comment_tags                   0\n",
      "comment_created_time_delta     0\n",
      "media_created_time_epoch       0\n",
      "comment_created_time_epoch     0\n",
      "dtype: int64\n"
     ]
    }
   ],
   "source": [
    "print(\"The number of null values in each column\\n%s\" % comments.isna().sum())"
   ]
  },
  {
   "cell_type": "code",
   "execution_count": null,
   "metadata": {},
   "outputs": [],
   "source": []
  },
  {
   "cell_type": "code",
   "execution_count": 33,
   "metadata": {},
   "outputs": [
    {
     "data": {
      "image/png": "[encoded data removed]",
      "text/plain": [
       "<Figure size 432x288 with 1 Axes>"
      ]
     },
     "metadata": {},
     "output_type": "display_data"
    }
   ],
   "source": [
    "graph = nx.Graph()\n",
    "graph.add_nodes_from(profiles_id)\n",
    "\n",
    "nx.draw(graph)\n",
    "plt.title(\"Interaction Between users (sampled)\")\n",
    "plt.show()"
   ]
  },
  {
   "cell_type": "code",
   "execution_count": null,
   "metadata": {},
   "outputs": [],
   "source": []
  }
 ],
 "metadata": {
  "kernelspec": {
   "display_name": "Python 3",
   "language": "python",
   "name": "python3"
  },
  "language_info": {
   "codemirror_mode": {
    "name": "ipython",
    "version": 3
   },
   "file_extension": ".py",
   "mimetype": "text/x-python",
   "name": "python",
   "nbconvert_exporter": "python",
   "pygments_lexer": "ipython3",
   "version": "3.6.8"
  }
 },
 "nbformat": 4,
 "nbformat_minor": 2
}
