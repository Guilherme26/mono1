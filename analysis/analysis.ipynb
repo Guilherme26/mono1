{
 "cells": [
  {
   "cell_type": "code",
   "execution_count": 1,
   "metadata": {},
   "outputs": [],
   "source": [
    "import torch\n",
    "import torch.nn.functional as F\n",
    "import pandas as pd\n",
    "import matplotlib.pyplot as plt\n",
    "import numpy as np\n",
    "import networkx as nx\n",
    "import plotly.graph_objects as go\n",
    "import os\n",
    "\n",
    "from sklearn.model_selection import StratifiedKFold\n",
    "from torch_geometric.data import Data\n",
    "from torch.utils.data import DataLoader\n",
    "from torch_geometric.nn.models import Node2Vec\n",
    "from torch_geometric.nn import GCNConv, GATConv, SAGEConv, GINConv\n",
    "from torch.optim import Adam\n",
    "from torch.nn import NLLLoss\n",
    "from collections import defaultdict\n",
    "from dateutil import parser\n",
    "\n",
    "import ast\n",
    "import preprocessing\n",
    "import utils\n",
    "\n",
    "torch.manual_seed(0)\n",
    "np.random.seed(0)\n",
    "\n",
    "profiles = pd.read_csv(\"../data/profiles.csv\", usecols=[\"profile_username\", \"profile_followed_by\", \"profile_follow\", \n",
    "                                                        \"medias_nb\", \"comments_nb\", \"comments_commenters_nb\", \n",
    "                                                        \"comments_self_nb\", \"category_1\"])\n",
    "comments = pd.read_csv(\"../data/comments.csv\")"
   ]
  },
  {
   "cell_type": "code",
   "execution_count": 2,
   "metadata": {},
   "outputs": [],
   "source": [
    "profiles[\"is_tracked\"] = 1"
   ]
  },
  {
   "cell_type": "code",
   "execution_count": 3,
   "metadata": {},
   "outputs": [],
   "source": [
    "final_df = comments[[\"media_author\", \"commenter\"]]\\\n",
    "                .groupby(\"commenter\", as_index=False)\\\n",
    "                .agg(\"count\")\\\n",
    "                .sort_values(\"commenter\")\n",
    "final_df.columns = [\"commenter\", \"comments_nb\"]\n",
    "final_df = final_df[(final_df.comments_nb >= 125) | final_df.commenter.isin(profiles.profile_username)]"
   ]
  },
  {
   "cell_type": "code",
   "execution_count": 4,
   "metadata": {},
   "outputs": [
    {
     "name": "stdout",
     "output_type": "stream",
     "text": [
      "The number of commenters: 3583\n",
      "The current number of interactions: 882651\n"
     ]
    }
   ],
   "source": [
    "print(\"The number of commenters: {}\".format(len(final_df)))\n",
    "comments = comments[comments.commenter.isin(final_df.commenter.values)]\n",
    "print(\"The current number of interactions: {}\".format(len(comments)))"
   ]
  },
  {
   "cell_type": "code",
   "execution_count": 5,
   "metadata": {},
   "outputs": [],
   "source": [
    "tmp = comments[[\"category_1\", \"commenter\"]]\\\n",
    "            .groupby(\"commenter\", as_index=False)\\\n",
    "            .agg({\"category_1\": lambda col: col.nunique()})\\\n",
    "            .sort_values(\"commenter\")\n",
    "\n",
    "to_categories_nb = {commenter: categories_nb for commenter, categories_nb in tmp.values}\n",
    "final_df[\"categories_nb\"] = final_df.commenter.apply(lambda commenter: to_categories_nb[commenter])\n",
    "\n",
    "del tmp, to_categories_nb"
   ]
  },
  {
   "cell_type": "code",
   "execution_count": 6,
   "metadata": {},
   "outputs": [
    {
     "name": "stderr",
     "output_type": "stream",
     "text": [
      "/usr/local/lib/python3.6/dist-packages/ipykernel_launcher.py:2: SettingWithCopyWarning:\n",
      "\n",
      "\n",
      "A value is trying to be set on a copy of a slice from a DataFrame.\n",
      "Try using .loc[row_indexer,col_indexer] = value instead\n",
      "\n",
      "See the caveats in the documentation: http://pandas.pydata.org/pandas-docs/stable/user_guide/indexing.html#returning-a-view-versus-a-copy\n",
      "\n"
     ]
    }
   ],
   "source": [
    "tmp = comments[[\"commenter\", \"comment_tags\"]]\n",
    "tmp[\"comment_tags\"] = tmp.comment_tags.apply(lambda x: len(ast.literal_eval(x)))\n",
    "tmp = tmp.groupby(\"commenter\", as_index=False)\\\n",
    "            .agg(\"mean\")\\\n",
    "            .sort_values(\"commenter\")\n",
    "\n",
    "to_avg_tags_nb = {commenter: avg_tags_nb for commenter, avg_tags_nb in tmp.values}\n",
    "final_df[\"avg_tags_nb\"] = final_df.commenter.apply(lambda commenter: to_avg_tags_nb[commenter])\n",
    "\n",
    "del tmp, to_avg_tags_nb"
   ]
  },
  {
   "cell_type": "code",
   "execution_count": 7,
   "metadata": {},
   "outputs": [
    {
     "name": "stderr",
     "output_type": "stream",
     "text": [
      "/usr/local/lib/python3.6/dist-packages/ipykernel_launcher.py:2: SettingWithCopyWarning:\n",
      "\n",
      "\n",
      "A value is trying to be set on a copy of a slice from a DataFrame.\n",
      "Try using .loc[row_indexer,col_indexer] = value instead\n",
      "\n",
      "See the caveats in the documentation: http://pandas.pydata.org/pandas-docs/stable/user_guide/indexing.html#returning-a-view-versus-a-copy\n",
      "\n"
     ]
    }
   ],
   "source": [
    "tmp = comments[[\"commenter\", \"comment_mentioned_usernames\"]]\n",
    "tmp[\"comment_mentioned_usernames\"] = tmp.comment_mentioned_usernames.apply(lambda x: len(ast.literal_eval(x)))\n",
    "tmp = tmp.groupby(\"commenter\", as_index=False)\\\n",
    "            .agg(\"mean\")\\\n",
    "            .sort_values(\"commenter\")\n",
    "\n",
    "to_avg_cited_users = {commenter: avg_cited_users for commenter, avg_cited_users in tmp.values}\n",
    "final_df[\"avg_cited_users\"] = final_df.commenter.apply(lambda commenter: to_avg_cited_users[commenter])\n",
    "\n",
    "del tmp, to_avg_cited_users"
   ]
  },
  {
   "cell_type": "code",
   "execution_count": 8,
   "metadata": {},
   "outputs": [
    {
     "name": "stderr",
     "output_type": "stream",
     "text": [
      "/usr/local/lib/python3.6/dist-packages/ipykernel_launcher.py:2: SettingWithCopyWarning:\n",
      "\n",
      "\n",
      "A value is trying to be set on a copy of a slice from a DataFrame.\n",
      "Try using .loc[row_indexer,col_indexer] = value instead\n",
      "\n",
      "See the caveats in the documentation: http://pandas.pydata.org/pandas-docs/stable/user_guide/indexing.html#returning-a-view-versus-a-copy\n",
      "\n"
     ]
    }
   ],
   "source": [
    "tmp = comments[[\"commenter\", \"comment_text\"]]\n",
    "tmp[\"comment_text\"] = tmp.comment_text.apply(lambda x: len(x))\n",
    "tmp = tmp.groupby(\"commenter\", as_index=False)\\\n",
    "            .agg(\"mean\")\\\n",
    "            .sort_values(\"commenter\")\n",
    "\n",
    "to_avg_msg_len = {commenter: avg_msg_len for commenter, avg_msg_len in tmp.values}\n",
    "final_df[\"avg_msg_len\"] = final_df.commenter.apply(lambda commenter: to_avg_msg_len[commenter])\n",
    "\n",
    "del tmp, to_avg_msg_len"
   ]
  },
  {
   "cell_type": "code",
   "execution_count": 9,
   "metadata": {},
   "outputs": [],
   "source": [
    "def update_dict(to_weekday, commenter, day, freq):\n",
    "    if to_weekday[commenter][1] < freq:\n",
    "        to_weekday[commenter] = (day, freq)"
   ]
  },
  {
   "cell_type": "code",
   "execution_count": 10,
   "metadata": {},
   "outputs": [
    {
     "name": "stderr",
     "output_type": "stream",
     "text": [
      "/usr/local/lib/python3.6/dist-packages/ipykernel_launcher.py:2: SettingWithCopyWarning:\n",
      "\n",
      "\n",
      "A value is trying to be set on a copy of a slice from a DataFrame.\n",
      "Try using .loc[row_indexer,col_indexer] = value instead\n",
      "\n",
      "See the caveats in the documentation: http://pandas.pydata.org/pandas-docs/stable/user_guide/indexing.html#returning-a-view-versus-a-copy\n",
      "\n"
     ]
    }
   ],
   "source": [
    "tmp = comments[[\"commenter\", \"comment_created_time_str\"]]\n",
    "tmp[\"day\"] = tmp.comment_created_time_str.apply(lambda item: parser.parse(item).weekday())\n",
    "tmp = tmp.groupby([\"commenter\", \"day\"], as_index=False).agg(\"count\")\n",
    "\n",
    "to_weekday = {}\n",
    "for commenter, day, freq in tmp.values:\n",
    "    if not commenter in to_weekday:\n",
    "        to_weekday[commenter] = (0, 0)\n",
    "    \n",
    "    update_dict(to_weekday, commenter, day, freq)\n",
    "    \n",
    "final_df[\"weekday\"] = final_df.commenter.apply(lambda commenter: to_weekday[commenter][0])\n",
    "\n",
    "del tmp, to_weekday"
   ]
  },
  {
   "cell_type": "code",
   "execution_count": 11,
   "metadata": {},
   "outputs": [
    {
     "name": "stderr",
     "output_type": "stream",
     "text": [
      "/usr/local/lib/python3.6/dist-packages/ipykernel_launcher.py:2: SettingWithCopyWarning:\n",
      "\n",
      "\n",
      "A value is trying to be set on a copy of a slice from a DataFrame.\n",
      "Try using .loc[row_indexer,col_indexer] = value instead\n",
      "\n",
      "See the caveats in the documentation: http://pandas.pydata.org/pandas-docs/stable/user_guide/indexing.html#returning-a-view-versus-a-copy\n",
      "\n"
     ]
    }
   ],
   "source": [
    "tmp = comments[[\"commenter\", \"comment_created_time_str\"]]\n",
    "tmp[\"hour\"] = tmp.comment_created_time_str.apply(lambda item: parser.parse(item).hour)\n",
    "tmp = tmp.groupby([\"commenter\", \"hour\"], as_index=False).agg(\"count\")\n",
    "\n",
    "to_hour = {}\n",
    "for commenter, hour, freq in tmp.values:\n",
    "    if not commenter in to_hour:\n",
    "        to_hour[commenter] = (0, 0)\n",
    "    \n",
    "    update_dict(to_hour, commenter, hour, freq)\n",
    "    \n",
    "final_df[\"hour\"] = final_df.commenter.apply(lambda commenter: to_hour[commenter][0])\n",
    "\n",
    "del tmp, to_hour"
   ]
  },
  {
   "cell_type": "code",
   "execution_count": 12,
   "metadata": {},
   "outputs": [],
   "source": [
    "final_df[\"is_tracked\"] = 0"
   ]
  },
  {
   "cell_type": "code",
   "execution_count": 13,
   "metadata": {},
   "outputs": [
    {
     "data": {
      "text/html": [
       "<div>\n",
       "<style scoped>\n",
       "    .dataframe tbody tr th:only-of-type {\n",
       "        vertical-align: middle;\n",
       "    }\n",
       "\n",
       "    .dataframe tbody tr th {\n",
       "        vertical-align: top;\n",
       "    }\n",
       "\n",
       "    .dataframe thead th {\n",
       "        text-align: right;\n",
       "    }\n",
       "</style>\n",
       "<table border=\"1\" class=\"dataframe\">\n",
       "  <thead>\n",
       "    <tr style=\"text-align: right;\">\n",
       "      <th></th>\n",
       "      <th>commenter</th>\n",
       "      <th>comments_nb</th>\n",
       "      <th>categories_nb</th>\n",
       "      <th>avg_tags_nb</th>\n",
       "      <th>avg_cited_users</th>\n",
       "      <th>avg_msg_len</th>\n",
       "      <th>weekday</th>\n",
       "      <th>hour</th>\n",
       "      <th>is_tracked</th>\n",
       "    </tr>\n",
       "  </thead>\n",
       "  <tbody>\n",
       "    <tr>\n",
       "      <td>687</td>\n",
       "      <td>0591_aleinad</td>\n",
       "      <td>259</td>\n",
       "      <td>1</td>\n",
       "      <td>0.000000</td>\n",
       "      <td>0.814672</td>\n",
       "      <td>196.810811</td>\n",
       "      <td>0</td>\n",
       "      <td>16</td>\n",
       "      <td>0</td>\n",
       "    </tr>\n",
       "    <tr>\n",
       "      <td>860</td>\n",
       "      <td>06nazi</td>\n",
       "      <td>126</td>\n",
       "      <td>1</td>\n",
       "      <td>0.000000</td>\n",
       "      <td>0.015873</td>\n",
       "      <td>5.238095</td>\n",
       "      <td>6</td>\n",
       "      <td>18</td>\n",
       "      <td>0</td>\n",
       "    </tr>\n",
       "    <tr>\n",
       "      <td>1747</td>\n",
       "      <td>102.7245</td>\n",
       "      <td>218</td>\n",
       "      <td>2</td>\n",
       "      <td>0.000000</td>\n",
       "      <td>0.059633</td>\n",
       "      <td>36.885321</td>\n",
       "      <td>6</td>\n",
       "      <td>12</td>\n",
       "      <td>0</td>\n",
       "    </tr>\n",
       "    <tr>\n",
       "      <td>2210</td>\n",
       "      <td>11luisella</td>\n",
       "      <td>397</td>\n",
       "      <td>1</td>\n",
       "      <td>0.020151</td>\n",
       "      <td>0.020151</td>\n",
       "      <td>46.188917</td>\n",
       "      <td>5</td>\n",
       "      <td>12</td>\n",
       "      <td>0</td>\n",
       "    </tr>\n",
       "    <tr>\n",
       "      <td>2445</td>\n",
       "      <td>12nycole</td>\n",
       "      <td>222</td>\n",
       "      <td>2</td>\n",
       "      <td>1.648649</td>\n",
       "      <td>1.500000</td>\n",
       "      <td>203.639640</td>\n",
       "      <td>5</td>\n",
       "      <td>12</td>\n",
       "      <td>0</td>\n",
       "    </tr>\n",
       "  </tbody>\n",
       "</table>\n",
       "</div>"
      ],
      "text/plain": [
       "         commenter  comments_nb  categories_nb  avg_tags_nb  avg_cited_users  \\\n",
       "687   0591_aleinad          259              1     0.000000         0.814672   \n",
       "860         06nazi          126              1     0.000000         0.015873   \n",
       "1747      102.7245          218              2     0.000000         0.059633   \n",
       "2210    11luisella          397              1     0.020151         0.020151   \n",
       "2445      12nycole          222              2     1.648649         1.500000   \n",
       "\n",
       "      avg_msg_len  weekday  hour  is_tracked  \n",
       "687    196.810811        0    16           0  \n",
       "860      5.238095        6    18           0  \n",
       "1747    36.885321        6    12           0  \n",
       "2210    46.188917        5    12           0  \n",
       "2445   203.639640        5    12           0  "
      ]
     },
     "execution_count": 13,
     "metadata": {},
     "output_type": "execute_result"
    }
   ],
   "source": [
    "final_df.head(5)"
   ]
  },
  {
   "cell_type": "code",
   "execution_count": 14,
   "metadata": {},
   "outputs": [],
   "source": [
    "cols = set(final_df.columns).union(profiles.columns)\n",
    "for col in cols:\n",
    "    if not col in final_df.columns and col != \"profile_username\":\n",
    "        final_df[col] = 0\n",
    "    if not col in profiles.columns and col != \"commenter\":\n",
    "        profiles[col] = 0\n",
    "\n",
    "n_features = len(set(final_df.columns).union(profiles.columns))"
   ]
  },
  {
   "cell_type": "code",
   "execution_count": 15,
   "metadata": {},
   "outputs": [],
   "source": [
    "final_df.rename(columns={'commenter':'profile_username'}, inplace=True)\n",
    "final_df = final_df.reindex(sorted(final_df.columns), axis=1)\n",
    "profiles = profiles.reindex(sorted(profiles.columns), axis=1)\n",
    "\n",
    "cols = profiles.columns"
   ]
  },
  {
   "cell_type": "code",
   "execution_count": 16,
   "metadata": {},
   "outputs": [
    {
     "data": {
      "text/html": [
       "<div>\n",
       "<style scoped>\n",
       "    .dataframe tbody tr th:only-of-type {\n",
       "        vertical-align: middle;\n",
       "    }\n",
       "\n",
       "    .dataframe tbody tr th {\n",
       "        vertical-align: top;\n",
       "    }\n",
       "\n",
       "    .dataframe thead th {\n",
       "        text-align: right;\n",
       "    }\n",
       "</style>\n",
       "<table border=\"1\" class=\"dataframe\">\n",
       "  <thead>\n",
       "    <tr style=\"text-align: right;\">\n",
       "      <th></th>\n",
       "      <th>avg_cited_users</th>\n",
       "      <th>avg_msg_len</th>\n",
       "      <th>avg_tags_nb</th>\n",
       "      <th>categories_nb</th>\n",
       "      <th>category_1</th>\n",
       "      <th>comments_commenters_nb</th>\n",
       "      <th>comments_nb</th>\n",
       "      <th>comments_self_nb</th>\n",
       "      <th>hour</th>\n",
       "      <th>is_tracked</th>\n",
       "      <th>medias_nb</th>\n",
       "      <th>profile_follow</th>\n",
       "      <th>profile_followed_by</th>\n",
       "      <th>profile_username</th>\n",
       "      <th>weekday</th>\n",
       "    </tr>\n",
       "  </thead>\n",
       "  <tbody>\n",
       "    <tr>\n",
       "      <td>687</td>\n",
       "      <td>0.814672</td>\n",
       "      <td>196.810811</td>\n",
       "      <td>0.0</td>\n",
       "      <td>1</td>\n",
       "      <td>0</td>\n",
       "      <td>0</td>\n",
       "      <td>259</td>\n",
       "      <td>0</td>\n",
       "      <td>16</td>\n",
       "      <td>0</td>\n",
       "      <td>0</td>\n",
       "      <td>0</td>\n",
       "      <td>0</td>\n",
       "      <td>0591_aleinad</td>\n",
       "      <td>0</td>\n",
       "    </tr>\n",
       "  </tbody>\n",
       "</table>\n",
       "</div>"
      ],
      "text/plain": [
       "     avg_cited_users  avg_msg_len  avg_tags_nb  categories_nb  category_1  \\\n",
       "687         0.814672   196.810811          0.0              1           0   \n",
       "\n",
       "     comments_commenters_nb  comments_nb  comments_self_nb  hour  is_tracked  \\\n",
       "687                       0          259                 0    16           0   \n",
       "\n",
       "     medias_nb  profile_follow  profile_followed_by profile_username  weekday  \n",
       "687          0               0                    0     0591_aleinad        0  "
      ]
     },
     "execution_count": 16,
     "metadata": {},
     "output_type": "execute_result"
    }
   ],
   "source": [
    "final_df.head(1)"
   ]
  },
  {
   "cell_type": "code",
   "execution_count": 17,
   "metadata": {},
   "outputs": [],
   "source": [
    "user_dict = {values[-2]: values for values in profiles.values}"
   ]
  },
  {
   "cell_type": "code",
   "execution_count": 18,
   "metadata": {},
   "outputs": [],
   "source": [
    "remaining_users = list(set(profiles.profile_username) - set(final_df.profile_username))\n",
    "\n",
    "profiles = profiles[profiles.profile_username.isin(remaining_users)].values\n",
    "final_df = final_df.values"
   ]
  },
  {
   "cell_type": "code",
   "execution_count": 19,
   "metadata": {},
   "outputs": [],
   "source": [
    "def merge_row(row1, row2):\n",
    "    for i in range(row1.size):\n",
    "        if type(row2[i]) is str:\n",
    "            row1[i] = row2[i]\n",
    "        elif type(row1[i]) is str:\n",
    "            continue\n",
    "        elif row1[i] == 0:\n",
    "            row1[i] += row2[i]"
   ]
  },
  {
   "cell_type": "code",
   "execution_count": 20,
   "metadata": {},
   "outputs": [],
   "source": [
    "for row in final_df:\n",
    "    name = row[-2]\n",
    "    if name in user_dict:\n",
    "        merge_row(row, user_dict[name])\n",
    "\n",
    "list(final_df).append(profiles)"
   ]
  },
  {
   "cell_type": "code",
   "execution_count": 21,
   "metadata": {},
   "outputs": [],
   "source": [
    "final_df = pd.DataFrame(final_df, columns=cols)"
   ]
  },
  {
   "cell_type": "code",
   "execution_count": 22,
   "metadata": {},
   "outputs": [
    {
     "data": {
      "text/html": [
       "<div>\n",
       "<style scoped>\n",
       "    .dataframe tbody tr th:only-of-type {\n",
       "        vertical-align: middle;\n",
       "    }\n",
       "\n",
       "    .dataframe tbody tr th {\n",
       "        vertical-align: top;\n",
       "    }\n",
       "\n",
       "    .dataframe thead th {\n",
       "        text-align: right;\n",
       "    }\n",
       "</style>\n",
       "<table border=\"1\" class=\"dataframe\">\n",
       "  <thead>\n",
       "    <tr style=\"text-align: right;\">\n",
       "      <th></th>\n",
       "      <th>avg_cited_users</th>\n",
       "      <th>avg_msg_len</th>\n",
       "      <th>avg_tags_nb</th>\n",
       "      <th>categories_nb</th>\n",
       "      <th>category_1</th>\n",
       "      <th>comments_commenters_nb</th>\n",
       "      <th>comments_nb</th>\n",
       "      <th>comments_self_nb</th>\n",
       "      <th>hour</th>\n",
       "      <th>is_tracked</th>\n",
       "      <th>medias_nb</th>\n",
       "      <th>profile_follow</th>\n",
       "      <th>profile_followed_by</th>\n",
       "      <th>profile_username</th>\n",
       "      <th>weekday</th>\n",
       "    </tr>\n",
       "  </thead>\n",
       "  <tbody>\n",
       "    <tr>\n",
       "      <td>0</td>\n",
       "      <td>0.814672</td>\n",
       "      <td>196.811</td>\n",
       "      <td>0</td>\n",
       "      <td>1</td>\n",
       "      <td>0</td>\n",
       "      <td>0</td>\n",
       "      <td>259</td>\n",
       "      <td>0</td>\n",
       "      <td>16</td>\n",
       "      <td>0</td>\n",
       "      <td>0</td>\n",
       "      <td>0</td>\n",
       "      <td>0</td>\n",
       "      <td>0591_aleinad</td>\n",
       "      <td>0</td>\n",
       "    </tr>\n",
       "  </tbody>\n",
       "</table>\n",
       "</div>"
      ],
      "text/plain": [
       "  avg_cited_users avg_msg_len avg_tags_nb categories_nb category_1  \\\n",
       "0        0.814672     196.811           0             1          0   \n",
       "\n",
       "  comments_commenters_nb comments_nb comments_self_nb hour is_tracked  \\\n",
       "0                      0         259                0   16          0   \n",
       "\n",
       "  medias_nb profile_follow profile_followed_by profile_username weekday  \n",
       "0         0              0                   0     0591_aleinad       0  "
      ]
     },
     "execution_count": 22,
     "metadata": {},
     "output_type": "execute_result"
    }
   ],
   "source": [
    "final_df.head(1)"
   ]
  },
  {
   "cell_type": "code",
   "execution_count": 23,
   "metadata": {},
   "outputs": [],
   "source": [
    "final_df.to_csv(\"../data/new_profiles.csv\")"
   ]
  },
  {
   "cell_type": "code",
   "execution_count": null,
   "metadata": {},
   "outputs": [],
   "source": []
  },
  {
   "cell_type": "code",
   "execution_count": 26,
   "metadata": {},
   "outputs": [],
   "source": [
    "users = final_df.profile_username.values\n",
    "comments = pd.read_csv(\"../data/comments.csv\", usecols=[\"media_short_code\", \"media_author\", \"commenter\"])\n",
    "comments = comments[(comments.commenter.isin(users)) | (comments.media_author.isin(users))]\n",
    "comments.to_csv(\"../data/new_comments.csv\")"
   ]
  },
  {
   "cell_type": "code",
   "execution_count": null,
   "metadata": {},
   "outputs": [],
   "source": []
  },
  {
   "cell_type": "code",
   "execution_count": null,
   "metadata": {},
   "outputs": [],
   "source": [
    "1a"
   ]
  },
  {
   "cell_type": "code",
   "execution_count": null,
   "metadata": {},
   "outputs": [],
   "source": []
  },
  {
   "cell_type": "code",
   "execution_count": null,
   "metadata": {},
   "outputs": [],
   "source": [
    "results = profiles.category_1.value_counts()\n",
    "print(results)\n",
    "\n",
    "figure = go.Figure(\n",
    "    data=[go.Pie(labels=results.index.values, values=results.values)],\n",
    "    layout_title_text=\"Percentage of Each Category\"\n",
    ")\n",
    "\n",
    "figure.show()"
   ]
  },
  {
   "cell_type": "code",
   "execution_count": null,
   "metadata": {},
   "outputs": [],
   "source": [
    "known_users = profiles.profile_username.unique().tolist()\n",
    "followers = comments.commenter.unique().tolist()\n",
    "all_users = set(known_users + followers)\n",
    "prev_number_of_users = len(all_users)\n",
    "print(\"There are originally {} users\".format(prev_number_of_users))"
   ]
  },
  {
   "cell_type": "code",
   "execution_count": null,
   "metadata": {},
   "outputs": [],
   "source": [
    "all_posts = len(comments.media_short_code.unique())\n",
    "all_interactions = len(comments)\n",
    "print(\"There are {} distinct posts and {} interactions. An average of {} interactions per post\"\\\n",
    "          .format(all_posts, all_interactions, np.round(all_interactions/all_posts, 2)))"
   ]
  },
  {
   "cell_type": "code",
   "execution_count": null,
   "metadata": {},
   "outputs": [],
   "source": [
    "profiles = preprocessing.categorical_to_numerical(profiles, col=\"category_1\")\n",
    "comments = comments.drop_duplicates()\n",
    "comments = preprocessing.filter_by_relevance(comments, profiles, minimum_freq=50)"
   ]
  },
  {
   "cell_type": "code",
   "execution_count": null,
   "metadata": {},
   "outputs": [],
   "source": [
    "known_users = profiles.profile_username.unique().tolist()\n",
    "followers = comments.commenter.unique().tolist()\n",
    "all_users = set(known_users + followers)\n",
    "cur_number_of_users = len(all_users)\n",
    "print(\"The new graph drawn from relevance threshold {} has {} users and {} interactions\"\\\n",
    "          .format(35, cur_number_of_users, len(comments)))"
   ]
  },
  {
   "cell_type": "code",
   "execution_count": null,
   "metadata": {},
   "outputs": [],
   "source": [
    "print(\"The number of users was reduced by ~ {}%\"\\\n",
    "          .format(np.round((1-cur_number_of_users/prev_number_of_users)*100, 2)))"
   ]
  },
  {
   "cell_type": "code",
   "execution_count": null,
   "metadata": {},
   "outputs": [],
   "source": [
    "names = profiles.profile_username.values\n",
    "data = profiles[[\"profile_followed_by\", \"profile_follow\", \"medias_nb\", \n",
    "                \"comments_nb\", \"comments_commenters_nb\", \"comments_self_nb\"]].values\n",
    "name_to_record = {name: record for name, record in zip(names, data)}\n",
    "\n",
    "input_dim, output_dim = data.shape[1], len(profiles.category_1.unique()) + 1\n",
    "user_to_label = {user: category for user, category in profiles[[\"profile_username\", \"category_1\"]].values}"
   ]
  },
  {
   "cell_type": "code",
   "execution_count": null,
   "metadata": {},
   "outputs": [],
   "source": [
    "def update_histories(models_histories, new_histories):\n",
    "    for model, history in new_histories.items():\n",
    "        if not models_histories[model]:\n",
    "            models_histories[model] = np.array(new_histories[model])\n",
    "        else:\n",
    "            models_histories[model] += np.array(new_histories[model])\n",
    "    \n",
    "    return models_histories\n",
    "    \n",
    "\n",
    "def calculate_statistics(models_metrics):\n",
    "    return {model: {metric: (np.mean(values), np.std(values)) for metric, values in metrics.items()} \n",
    "                for model, metrics in models_metrics.items()}"
   ]
  },
  {
   "cell_type": "code",
   "execution_count": null,
   "metadata": {},
   "outputs": [],
   "source": [
    "K = 5\n",
    "skf = StratifiedKFold(n_splits=K)\n",
    "\n",
    "n_hidden_units = 64\n",
    "print(\"Fez of preprocessamento\")\n",
    "models_metrics = defaultdict(dict)\n",
    "models_histories = defaultdict(list)\n",
    "for train_idx, test_idx in skf.split(profiles.profile_username.values, profiles.category_1.values):\n",
    "    train_authors, test_authors = utils.get_authors(profiles, all_users, train_idx, test_idx)\n",
    "\n",
    "    print(\"Pegou autores\")\n",
    "\n",
    "    username_to_index = utils.get_users_indices(train_authors)\n",
    "    print(\"Pegou indices\")\n",
    "    train_interactions = utils.get_interactions(comments[(comments.media_author.isin(train_authors)) \n",
    "                                                    & (comments.commenter.isin(train_authors))], username_to_index)\n",
    "    print(\"Pegou interações\")\n",
    "    x_train, y_train = utils.get_x(train_authors, name_to_record, input_dim=input_dim), utils.get_y(user_to_label, train_authors)\n",
    "    print(\"Pegou x e y\")\n",
    "    assert len(x_train)==len(y_train), \"Train Input and Output tensor do not have the same dimensions\"\n",
    "\n",
    "\n",
    "    edge_index = utils.get_edge_index(train_interactions)\n",
    "    print(\"Pegou os indices de arestas\")\n",
    "    device = torch.device('cuda' if torch.cuda.is_available() else 'cpu')\n",
    "    data = Data(x=x_train, y=y_train, edge_index=edge_index).to(device)\n",
    "    print(\"Criou Data\")\n",
    "\n",
    "    models = utils.get_models(data.num_nodes, input_dim, output_dim, n_hidden_units, device=device, lr=0.005)\n",
    "    print(\"Criou modelos\")\n",
    "\n",
    "    histories = utils.train(data, models, epochs=1)\n",
    "    models_histories = update_histories(models_histories, histories)\n",
    "\n",
    "    username_to_index = utils.get_users_indices(test_authors)\n",
    "    test_interactions = utils.get_interactions(comments[(comments.media_author.isin(test_authors)) \n",
    "                                                    & (comments.commenter.isin(test_authors))], username_to_index)\n",
    "    x_test, y_test = utils.get_x(test_authors, name_to_record, input_dim=input_dim), utils.get_y(user_to_label, test_authors)\n",
    "    assert len(x_test)==len(y_test), \"Test Input and Output tensor do not have the same dimensions\"\n",
    "\n",
    "    edge_index = utils.get_edge_index(test_interactions)\n",
    "    data = Data(x=x_test, y=y_test, edge_index=edge_index).to(device)\n",
    "    current_metrics = utils.test(data, models)\n",
    "    utils.update_metrics_dict(models_metrics, current_metrics)\n",
    "    \n",
    "models_histories = {model: list(history/K) for model, history in models_histories.items()} # Get mean traces"
   ]
  },
  {
   "cell_type": "code",
   "execution_count": null,
   "metadata": {},
   "outputs": [],
   "source": [
    "models_metrics = calculate_statistics(models_metrics)"
   ]
  },
  {
   "cell_type": "code",
   "execution_count": null,
   "metadata": {},
   "outputs": [],
   "source": []
  },
  {
   "cell_type": "code",
   "execution_count": null,
   "metadata": {},
   "outputs": [],
   "source": [
    "import matplotlib.pyplot as plt\n",
    "import json\n",
    "\n",
    "models_histories = json.load(open(\"../pipeline/results/one_layer_models/models_histories_1_256.json\"))"
   ]
  },
  {
   "cell_type": "code",
   "execution_count": null,
   "metadata": {},
   "outputs": [],
   "source": [
    "from pylab import rcParams\n",
    "rcParams['figure.figsize'] = (15, 5)\n",
    "\n",
    "fig, ax = plt.subplots(1, 3, sharey=True)\n",
    "models = [\"GCN\", \"GAT\", \"GraphSAGE\"]\n",
    "for i, (model, history) in enumerate(models_histories.items()):\n",
    "    ax[i].plot(range(len(history)), history)\n",
    "    ax[i].set_title(models[i])\n",
    "\n",
    "plt.suptitle(\"History of Training Error (200 Epochs)\")\n",
    "plt.show()"
   ]
  },
  {
   "cell_type": "code",
   "execution_count": null,
   "metadata": {},
   "outputs": [],
   "source": []
  },
  {
   "cell_type": "code",
   "execution_count": null,
   "metadata": {},
   "outputs": [],
   "source": [
    "import matplotlib.pyplot as plt\n",
    "import json\n",
    "\n",
    "models_histories = json.load(open(\"../pipeline/results/one_layer_models/models_metrics_1_64.json\"))\n",
    "models_histories"
   ]
  },
  {
   "cell_type": "code",
   "execution_count": null,
   "metadata": {},
   "outputs": [],
   "source": []
  }
 ],
 "metadata": {
  "kernelspec": {
   "display_name": "Python 3",
   "language": "python",
   "name": "python3"
  },
  "language_info": {
   "codemirror_mode": {
    "name": "ipython",
    "version": 3
   },
   "file_extension": ".py",
   "mimetype": "text/x-python",
   "name": "python",
   "nbconvert_exporter": "python",
   "pygments_lexer": "ipython3",
   "version": "3.6.8"
  }
 },
 "nbformat": 4,
 "nbformat_minor": 2
}
