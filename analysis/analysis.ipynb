{
 "cells": [
  {
   "cell_type": "code",
   "execution_count": null,
   "metadata": {
    "scrolled": true
   },
   "outputs": [],
   "source": [
    "import torch\n",
    "import pandas as pd\n",
    "import numpy as np\n",
    "import sys\n",
    "\n",
    "sys.path.insert(0, \"../pipeline/\")\n",
    "import preprocessing\n",
    "import utils\n",
    "import matplotlib.pyplot as plt\n",
    "import json\n",
    "\n",
    "from sklearn.decomposition import PCA\n",
    "from mpl_toolkits.mplot3d import Axes3D\n",
    "from gcn import GCNModel\n",
    "from torch_geometric.data import Data\n",
    "from matplotlib import rcParams"
   ]
  },
  {
   "cell_type": "code",
   "execution_count": null,
   "metadata": {},
   "outputs": [],
   "source": [
    "torch.manual_seed(0)\n",
    "np.random.seed(0)\n",
    "\n",
    "profiles = pd.read_csv(\"../data/new_profiles_200t.csv\")\n",
    "comments = pd.read_csv(\"../data/new_comments_200t.csv\")\n",
    "\n",
    "comments = comments.drop_duplicates()\n",
    "profiles = preprocessing.categorical_to_numerical(profiles, col=\"category_1\")\n",
    "all_users = set(profiles.profile_username.values)\n",
    "\n",
    "data = preprocessing.scale(profiles.drop(columns=[\"category_1\", \"profile_username\"]).values)\n",
    "name_to_record = {name: record for name, record in zip(all_users, data)}\n",
    "\n",
    "input_dim, output_dim = data.shape[1], len(profiles.category_1.unique()) + 1\n",
    "user_to_label = {user: category for user, category in profiles[[\"profile_username\", \"category_1\"]].values}"
   ]
  },
  {
   "cell_type": "code",
   "execution_count": null,
   "metadata": {
    "scrolled": true
   },
   "outputs": [],
   "source": [
    "authors = profiles.profile_username.values\n",
    "\n",
    "username_to_index = utils.get_users_indices(authors)\n",
    "interactions = utils.get_interactions(comments[comments.media_author.isin(authors) & comments.commenter.isin(authors)], username_to_index)\n",
    "x, y = utils.get_x(authors, name_to_record, input_dim=input_dim), utils.get_y(user_to_label, authors)\n",
    "\n",
    "edge_index = utils.get_edge_index(interactions)\n",
    "device = torch.device('cuda' if torch.cuda.is_available() else 'cpu')\n",
    "data = Data(x=x, y=y, edge_index=edge_index).to(device)\n",
    "\n",
    "gcn = GCNModel(x.shape[1], 64, 5, lr=0.005, n_hidden_layers=2)\n",
    "history = gcn.fit(data, epochs=100)\n",
    "\n",
    "embeddings = gcn.forward(data.x, data.edge_index, apply_activation=False)"
   ]
  },
  {
   "cell_type": "code",
   "execution_count": null,
   "metadata": {},
   "outputs": [],
   "source": [
    "category1 = profiles[profiles.category_1 == 1].index.values\n",
    "category2 = profiles[profiles.category_1 == 2].index.values\n",
    "category3 = profiles[profiles.category_1 == 3].index.values\n",
    "category4 = profiles[profiles.category_1 == 4].index.values\n",
    "\n",
    "group_indices = [category1, category2, category3, category4]"
   ]
  },
  {
   "cell_type": "code",
   "execution_count": null,
   "metadata": {},
   "outputs": [],
   "source": [
    "def reduce_data(data, n_dim=2):\n",
    "    return PCA(n_components=n_dim, random_state=0).fit_transform(data)\n",
    "\n",
    "\n",
    "def plot_2d(data, group_indices, legends):\n",
    "    for group in group_indices:\n",
    "        plt.scatter(data[group][:, :1], data[group][:, 1:])\n",
    "    plt.legend(legends)\n",
    "    plt.show()\n",
    "    \n",
    "\n",
    "def plot_3d(data, group_indices, legends):\n",
    "    fig = plt.figure()\n",
    "    ax = fig.add_subplot(111, projection='3d')\n",
    "\n",
    "    for group in group_indices:\n",
    "        ax.scatter(data[group][:, :1], data[group][:, 1:2], data[group][:, 2:])\n",
    "    plt.legend(legends)\n",
    "    plt.show()"
   ]
  },
  {
   "cell_type": "code",
   "execution_count": null,
   "metadata": {},
   "outputs": [],
   "source": [
    "data = reduce_data(embeddings.detach().numpy(), n_dim=2)\n",
    "plot_2d(data, group_indices, [\"Politics\", \"Sport\", \"Music\", \"Show\"])"
   ]
  },
  {
   "cell_type": "code",
   "execution_count": null,
   "metadata": {},
   "outputs": [],
   "source": [
    "data = reduce_data(embeddings.detach().numpy(), n_dim=3)\n",
    "plot_3d(data, group_indices, [\"Politics\", \"Sport\", \"Music\", \"Show\"])"
   ]
  },
  {
   "cell_type": "code",
   "execution_count": null,
   "metadata": {},
   "outputs": [],
   "source": [
    "data = preprocessing.scale(profiles.drop(columns=[\"category_1\", \"profile_username\"]).values)\n",
    "data = reduce_data(data, n_dim=2)\n",
    "plot_2d(data, group_indices, [\"Politics\", \"Sport\", \"Music\", \"Show\"])"
   ]
  },
  {
   "cell_type": "code",
   "execution_count": null,
   "metadata": {},
   "outputs": [],
   "source": [
    "data = preprocessing.scale(profiles.drop(columns=[\"category_1\", \"profile_username\"]).values)\n",
    "data = reduce_data(data, n_dim=3)\n",
    "plot_3d(data, group_indices, [\"Politics\", \"Sport\", \"Music\", \"Show\"])"
   ]
  },
  {
   "cell_type": "code",
   "execution_count": null,
   "metadata": {},
   "outputs": [],
   "source": [
    "rcParams[\"figure.figsize\"] = (12, 6)\n",
    "category_to_numerical = {\"Unknown Users\": 0, \"Politics\": 1, \"Sport\": 2, \"Music\": 3, \"Show\": 4}\n",
    "\n",
    "df_values = profiles.drop([\"profile_username\"], axis=1)\n",
    "df_category = df_values[df_values.category_1 == category_to_numerical[\"Unknown Users\"]]\n",
    "df_category = pd.DataFrame(preprocessing.scale(df_category.values), columns=df_category.columns)\\\n",
    "                    .drop([\"category_1\", \"is_tracked\"], axis=1)\n",
    "\n",
    "x = df_category.columns\n",
    "y = []\n",
    "for col in x:\n",
    "    y.append(np.mean(df_category[col].values))\n",
    "\n",
    "plt.bar(x, y)\n",
    "plt.xticks(rotation=90, fontsize=16)\n",
    "plt.yticks(fontsize=16)\n",
    "plt.title(\"Unknown Users\", fontsize=16)\n",
    "plt.show()"
   ]
  },
  {
   "cell_type": "code",
   "execution_count": null,
   "metadata": {},
   "outputs": [],
   "source": [
    "df_values = profiles.drop([\"profile_username\"], axis=1)\n",
    "fig, axes = plt.subplots(2, 2, sharey=True, figsize=(14, 7))\n",
    "for i, category in enumerate([\"Politics\", \"Sport\", \"Music\", \"Show\"]):    \n",
    "    df_category = df_values[df_values.category_1 == category_to_numerical[category]]\n",
    "    df_category = pd.DataFrame(preprocessing.scale(df_category.values), columns=df_category.columns)\\\n",
    "                        .drop([\"category_1\", \"is_tracked\"], axis=1)\n",
    "\n",
    "    x = df_category.columns\n",
    "    y = []\n",
    "    for col in x:\n",
    "        y.append(np.mean(df_category[col].values))\n",
    "    \n",
    "    axes[i//2, i%2].bar(x, y)\n",
    "    axes[i//2, i%2].set_title(category)\n",
    "    \n",
    "    if i//2 != 1:\n",
    "        axes[i//2, i%2].set_xticks([])\n",
    "    for tick in axes[i//2, i%2].get_xticklabels():\n",
    "        tick.set_rotation(90)\n",
    "\n",
    "plt.show()"
   ]
  },
  {
   "cell_type": "code",
   "execution_count": null,
   "metadata": {},
   "outputs": [],
   "source": [
    "legends = [\"Unknown Users\", \"Politics\", \"Sport\", \"Music\", \"Show\"]\n",
    "values = profiles[[\"category_1\", \"profile_username\"]].groupby(\"category_1\").count().values\n",
    "\n",
    "plt.pie(values, labels=legends, autopct=\"%.2f\", startangle=45, explode=[0, 0.1, 0.15, 0.2, 0.25])\n",
    "plt.title(\"Percentage per Category\", fontsize=16)\n",
    "rcParams[\"font.size\"] = 14\n",
    "plt.show()"
   ]
  },
  {
   "cell_type": "code",
   "execution_count": null,
   "metadata": {},
   "outputs": [],
   "source": [
    "gcn_trace = json.load(open(\"../data/results/histories/models_histories_100e_2l_64u.json\"))[\"GCNModel\"]"
   ]
  },
  {
   "cell_type": "code",
   "execution_count": null,
   "metadata": {},
   "outputs": [],
   "source": [
    "plt.plot(range(len(gcn_trace)), gcn_trace)\n",
    "plt.title(\"Best Model Training Error\")\n",
    "plt.show()"
   ]
  },
  {
   "cell_type": "code",
   "execution_count": null,
   "metadata": {},
   "outputs": [],
   "source": []
  }
 ],
 "metadata": {
  "kernelspec": {
   "display_name": "Python 3",
   "language": "python",
   "name": "python3"
  },
  "language_info": {
   "codemirror_mode": {
    "name": "ipython",
    "version": 3
   },
   "file_extension": ".py",
   "mimetype": "text/x-python",
   "name": "python",
   "nbconvert_exporter": "python",
   "pygments_lexer": "ipython3",
   "version": "3.6.8"
  }
 },
 "nbformat": 4,
 "nbformat_minor": 2
}
