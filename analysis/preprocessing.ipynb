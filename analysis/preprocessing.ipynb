{
 "cells": [
  {
   "cell_type": "code",
   "execution_count": 1,
   "metadata": {},
   "outputs": [],
   "source": [
    "import torch\n",
    "import torch.nn.functional as F\n",
    "import pandas as pd\n",
    "import matplotlib.pyplot as plt\n",
    "import numpy as np\n",
    "import networkx as nx\n",
    "import plotly.graph_objects as go\n",
    "import os\n",
    "\n",
    "from sklearn.model_selection import StratifiedKFold\n",
    "from torch_geometric.data import Data\n",
    "from torch.utils.data import DataLoader\n",
    "from torch_geometric.nn.models import Node2Vec\n",
    "from torch_geometric.nn import GCNConv, GATConv, SAGEConv, GINConv\n",
    "from torch.optim import Adam\n",
    "from torch.nn import NLLLoss\n",
    "from collections import defaultdict\n",
    "from dateutil import parser\n",
    "\n",
    "import ast\n",
    "# import preprocessing\n",
    "# import utils\n",
    "\n",
    "torch.manual_seed(0)\n",
    "np.random.seed(0)\n",
    "\n",
    "profiles = pd.read_csv(\"../data/profiles.csv\", usecols=[\"profile_username\", \"profile_followed_by\", \"profile_follow\", \n",
    "                                                        \"medias_nb\", \"comments_nb\", \"comments_commenters_nb\", \n",
    "                                                        \"comments_self_nb\", \"category_1\"])\n",
    "comments = pd.read_csv(\"../data/comments.csv\")"
   ]
  },
  {
   "cell_type": "code",
   "execution_count": 2,
   "metadata": {},
   "outputs": [],
   "source": [
    "profiles[\"is_tracked\"] = 1"
   ]
  },
  {
   "cell_type": "code",
   "execution_count": 3,
   "metadata": {},
   "outputs": [],
   "source": [
    "threshold = 200"
   ]
  },
  {
   "cell_type": "code",
   "execution_count": 4,
   "metadata": {},
   "outputs": [],
   "source": [
    "final_df = comments[[\"media_author\", \"commenter\"]]\\\n",
    "                .groupby(\"commenter\", as_index=False)\\\n",
    "                .agg(\"count\")\\\n",
    "                .sort_values(\"commenter\")\n",
    "final_df.columns = [\"commenter\", \"comments_nb\"]\n",
    "final_df = final_df[(final_df.comments_nb >= threshold) | final_df.commenter.isin(profiles.profile_username)]\n",
    "\n",
    "remaining_tracked_users = profiles[~profiles.profile_username.isin(final_df.commenter)][[\"profile_username\"]]\n",
    "remaining_tracked_users[\"comments_nb\"] = 0\n",
    "remaining_tracked_users.columns = [\"commenter\", \"comments_nb\"]"
   ]
  },
  {
   "cell_type": "code",
   "execution_count": 5,
   "metadata": {},
   "outputs": [],
   "source": [
    "final_df = pd.concat([final_df, remaining_tracked_users])"
   ]
  },
  {
   "cell_type": "code",
   "execution_count": null,
   "metadata": {},
   "outputs": [],
   "source": []
  },
  {
   "cell_type": "code",
   "execution_count": 6,
   "metadata": {},
   "outputs": [
    {
     "name": "stdout",
     "output_type": "stream",
     "text": [
      "The number of commenters: 1779\n",
      "The current number of interactions: 594762\n"
     ]
    }
   ],
   "source": [
    "print(\"The number of commenters: {}\".format(len(final_df)))\n",
    "comments = comments[comments.commenter.isin(final_df.commenter)]\n",
    "print(\"The current number of interactions: {}\".format(len(comments)))"
   ]
  },
  {
   "cell_type": "code",
   "execution_count": 7,
   "metadata": {},
   "outputs": [],
   "source": [
    "tmp = comments[[\"category_1\", \"commenter\"]]\\\n",
    "            .groupby(\"commenter\", as_index=False)\\\n",
    "            .agg({\"category_1\": lambda col: col.nunique()})\\\n",
    "            .sort_values(\"commenter\")\n",
    "\n",
    "to_categories_nb = {commenter: categories_nb for commenter, categories_nb in tmp.values}\n",
    "final_df[\"categories_nb\"] = final_df.commenter.apply(lambda commenter: to_categories_nb.get(commenter, 0))\n",
    "\n",
    "del tmp, to_categories_nb"
   ]
  },
  {
   "cell_type": "code",
   "execution_count": 8,
   "metadata": {},
   "outputs": [
    {
     "name": "stderr",
     "output_type": "stream",
     "text": [
      "/usr/local/lib/python3.6/dist-packages/ipykernel_launcher.py:2: SettingWithCopyWarning:\n",
      "\n",
      "\n",
      "A value is trying to be set on a copy of a slice from a DataFrame.\n",
      "Try using .loc[row_indexer,col_indexer] = value instead\n",
      "\n",
      "See the caveats in the documentation: http://pandas.pydata.org/pandas-docs/stable/user_guide/indexing.html#returning-a-view-versus-a-copy\n",
      "\n"
     ]
    }
   ],
   "source": [
    "tmp = comments[[\"commenter\", \"comment_tags\"]]\n",
    "tmp[\"comment_tags\"] = tmp.comment_tags.apply(lambda x: len(ast.literal_eval(x)))\n",
    "tmp = tmp.groupby(\"commenter\", as_index=False)\\\n",
    "            .agg(\"mean\")\\\n",
    "            .sort_values(\"commenter\")\n",
    "\n",
    "to_avg_tags_nb = {commenter: avg_tags_nb for commenter, avg_tags_nb in tmp.values}\n",
    "final_df[\"avg_tags_nb\"] = final_df.commenter.apply(lambda commenter: to_avg_tags_nb.get(commenter, 0))\n",
    "\n",
    "del tmp, to_avg_tags_nb"
   ]
  },
  {
   "cell_type": "code",
   "execution_count": 9,
   "metadata": {},
   "outputs": [
    {
     "name": "stderr",
     "output_type": "stream",
     "text": [
      "/usr/local/lib/python3.6/dist-packages/ipykernel_launcher.py:2: SettingWithCopyWarning:\n",
      "\n",
      "\n",
      "A value is trying to be set on a copy of a slice from a DataFrame.\n",
      "Try using .loc[row_indexer,col_indexer] = value instead\n",
      "\n",
      "See the caveats in the documentation: http://pandas.pydata.org/pandas-docs/stable/user_guide/indexing.html#returning-a-view-versus-a-copy\n",
      "\n"
     ]
    }
   ],
   "source": [
    "tmp = comments[[\"commenter\", \"comment_mentioned_usernames\"]]\n",
    "tmp[\"comment_mentioned_usernames\"] = tmp.comment_mentioned_usernames.apply(lambda x: len(ast.literal_eval(x)))\n",
    "tmp = tmp.groupby(\"commenter\", as_index=False)\\\n",
    "            .agg(\"mean\")\\\n",
    "            .sort_values(\"commenter\")\n",
    "\n",
    "to_avg_cited_users = {commenter: avg_cited_users for commenter, avg_cited_users in tmp.values}\n",
    "final_df[\"avg_cited_users\"] = final_df.commenter.apply(lambda commenter: to_avg_cited_users.get(commenter, 0))\n",
    "\n",
    "del tmp, to_avg_cited_users"
   ]
  },
  {
   "cell_type": "code",
   "execution_count": 10,
   "metadata": {},
   "outputs": [
    {
     "name": "stderr",
     "output_type": "stream",
     "text": [
      "/usr/local/lib/python3.6/dist-packages/ipykernel_launcher.py:2: SettingWithCopyWarning:\n",
      "\n",
      "\n",
      "A value is trying to be set on a copy of a slice from a DataFrame.\n",
      "Try using .loc[row_indexer,col_indexer] = value instead\n",
      "\n",
      "See the caveats in the documentation: http://pandas.pydata.org/pandas-docs/stable/user_guide/indexing.html#returning-a-view-versus-a-copy\n",
      "\n"
     ]
    }
   ],
   "source": [
    "tmp = comments[[\"commenter\", \"comment_text\"]]\n",
    "tmp[\"comment_text\"] = tmp.comment_text.apply(lambda x: len(x))\n",
    "tmp = tmp.groupby(\"commenter\", as_index=False)\\\n",
    "            .agg(\"mean\")\\\n",
    "            .sort_values(\"commenter\")\n",
    "\n",
    "to_avg_msg_len = {commenter: avg_msg_len for commenter, avg_msg_len in tmp.values}\n",
    "final_df[\"avg_msg_len\"] = final_df.commenter.apply(lambda commenter: to_avg_msg_len.get(commenter, 0))\n",
    "\n",
    "del tmp, to_avg_msg_len"
   ]
  },
  {
   "cell_type": "code",
   "execution_count": 11,
   "metadata": {},
   "outputs": [],
   "source": [
    "def update_dict(to_weekday, commenter, day, freq):\n",
    "    if to_weekday[commenter][1] < freq:\n",
    "        to_weekday[commenter] = (day, freq)"
   ]
  },
  {
   "cell_type": "code",
   "execution_count": 12,
   "metadata": {},
   "outputs": [
    {
     "name": "stderr",
     "output_type": "stream",
     "text": [
      "/usr/local/lib/python3.6/dist-packages/ipykernel_launcher.py:2: SettingWithCopyWarning:\n",
      "\n",
      "\n",
      "A value is trying to be set on a copy of a slice from a DataFrame.\n",
      "Try using .loc[row_indexer,col_indexer] = value instead\n",
      "\n",
      "See the caveats in the documentation: http://pandas.pydata.org/pandas-docs/stable/user_guide/indexing.html#returning-a-view-versus-a-copy\n",
      "\n"
     ]
    }
   ],
   "source": [
    "tmp = comments[[\"commenter\", \"comment_created_time_str\"]]\n",
    "tmp[\"day\"] = tmp.comment_created_time_str.apply(lambda item: parser.parse(item).weekday())\n",
    "tmp = tmp.groupby([\"commenter\", \"day\"], as_index=False).agg(\"count\")\n",
    "\n",
    "to_weekday = {}\n",
    "for commenter, day, freq in tmp.values:\n",
    "    if not commenter in to_weekday:\n",
    "        to_weekday[commenter] = (0, 0)\n",
    "    \n",
    "    update_dict(to_weekday, commenter, day, freq)\n",
    "    \n",
    "final_df[\"weekday\"] = final_df.commenter.apply(lambda commenter: to_weekday.get(commenter, [0])[0])\n",
    "\n",
    "del tmp, to_weekday"
   ]
  },
  {
   "cell_type": "code",
   "execution_count": 13,
   "metadata": {},
   "outputs": [
    {
     "data": {
      "text/html": [
       "<div>\n",
       "<style scoped>\n",
       "    .dataframe tbody tr th:only-of-type {\n",
       "        vertical-align: middle;\n",
       "    }\n",
       "\n",
       "    .dataframe tbody tr th {\n",
       "        vertical-align: top;\n",
       "    }\n",
       "\n",
       "    .dataframe thead th {\n",
       "        text-align: right;\n",
       "    }\n",
       "</style>\n",
       "<table border=\"1\" class=\"dataframe\">\n",
       "  <thead>\n",
       "    <tr style=\"text-align: right;\">\n",
       "      <th></th>\n",
       "      <th>commenter</th>\n",
       "      <th>comments_nb</th>\n",
       "      <th>categories_nb</th>\n",
       "      <th>avg_tags_nb</th>\n",
       "      <th>avg_cited_users</th>\n",
       "      <th>avg_msg_len</th>\n",
       "      <th>weekday</th>\n",
       "    </tr>\n",
       "  </thead>\n",
       "  <tbody>\n",
       "    <tr>\n",
       "      <td>687</td>\n",
       "      <td>0591_aleinad</td>\n",
       "      <td>259</td>\n",
       "      <td>1</td>\n",
       "      <td>0.000000</td>\n",
       "      <td>0.814672</td>\n",
       "      <td>196.810811</td>\n",
       "      <td>0</td>\n",
       "    </tr>\n",
       "    <tr>\n",
       "      <td>1747</td>\n",
       "      <td>102.7245</td>\n",
       "      <td>218</td>\n",
       "      <td>2</td>\n",
       "      <td>0.000000</td>\n",
       "      <td>0.059633</td>\n",
       "      <td>36.885321</td>\n",
       "      <td>6</td>\n",
       "    </tr>\n",
       "    <tr>\n",
       "      <td>2210</td>\n",
       "      <td>11luisella</td>\n",
       "      <td>397</td>\n",
       "      <td>1</td>\n",
       "      <td>0.020151</td>\n",
       "      <td>0.020151</td>\n",
       "      <td>46.188917</td>\n",
       "      <td>5</td>\n",
       "    </tr>\n",
       "    <tr>\n",
       "      <td>2445</td>\n",
       "      <td>12nycole</td>\n",
       "      <td>222</td>\n",
       "      <td>2</td>\n",
       "      <td>1.648649</td>\n",
       "      <td>1.500000</td>\n",
       "      <td>203.639640</td>\n",
       "      <td>5</td>\n",
       "    </tr>\n",
       "    <tr>\n",
       "      <td>2512</td>\n",
       "      <td>1340cc.engine</td>\n",
       "      <td>319</td>\n",
       "      <td>2</td>\n",
       "      <td>0.000000</td>\n",
       "      <td>0.000000</td>\n",
       "      <td>72.768025</td>\n",
       "      <td>2</td>\n",
       "    </tr>\n",
       "    <tr>\n",
       "      <td>...</td>\n",
       "      <td>...</td>\n",
       "      <td>...</td>\n",
       "      <td>...</td>\n",
       "      <td>...</td>\n",
       "      <td>...</td>\n",
       "      <td>...</td>\n",
       "      <td>...</td>\n",
       "    </tr>\n",
       "    <tr>\n",
       "      <td>253</td>\n",
       "      <td>deboraserracchiani</td>\n",
       "      <td>0</td>\n",
       "      <td>0</td>\n",
       "      <td>0.000000</td>\n",
       "      <td>0.000000</td>\n",
       "      <td>0.000000</td>\n",
       "      <td>0</td>\n",
       "    </tr>\n",
       "    <tr>\n",
       "      <td>259</td>\n",
       "      <td>pdroma</td>\n",
       "      <td>0</td>\n",
       "      <td>0</td>\n",
       "      <td>0.000000</td>\n",
       "      <td>0.000000</td>\n",
       "      <td>0.000000</td>\n",
       "      <td>0</td>\n",
       "    </tr>\n",
       "    <tr>\n",
       "      <td>260</td>\n",
       "      <td>associazionerousseau</td>\n",
       "      <td>0</td>\n",
       "      <td>0</td>\n",
       "      <td>0.000000</td>\n",
       "      <td>0.000000</td>\n",
       "      <td>0.000000</td>\n",
       "      <td>0</td>\n",
       "    </tr>\n",
       "    <tr>\n",
       "      <td>261</td>\n",
       "      <td>mauriziogasparri_official</td>\n",
       "      <td>0</td>\n",
       "      <td>0</td>\n",
       "      <td>0.000000</td>\n",
       "      <td>0.000000</td>\n",
       "      <td>0.000000</td>\n",
       "      <td>0</td>\n",
       "    </tr>\n",
       "    <tr>\n",
       "      <td>262</td>\n",
       "      <td>paolademicheli</td>\n",
       "      <td>0</td>\n",
       "      <td>0</td>\n",
       "      <td>0.000000</td>\n",
       "      <td>0.000000</td>\n",
       "      <td>0.000000</td>\n",
       "      <td>0</td>\n",
       "    </tr>\n",
       "  </tbody>\n",
       "</table>\n",
       "<p>1779 rows × 7 columns</p>\n",
       "</div>"
      ],
      "text/plain": [
       "                      commenter  comments_nb  categories_nb  avg_tags_nb  \\\n",
       "687                0591_aleinad          259              1     0.000000   \n",
       "1747                   102.7245          218              2     0.000000   \n",
       "2210                 11luisella          397              1     0.020151   \n",
       "2445                   12nycole          222              2     1.648649   \n",
       "2512              1340cc.engine          319              2     0.000000   \n",
       "...                         ...          ...            ...          ...   \n",
       "253          deboraserracchiani            0              0     0.000000   \n",
       "259                      pdroma            0              0     0.000000   \n",
       "260        associazionerousseau            0              0     0.000000   \n",
       "261   mauriziogasparri_official            0              0     0.000000   \n",
       "262              paolademicheli            0              0     0.000000   \n",
       "\n",
       "      avg_cited_users  avg_msg_len  weekday  \n",
       "687          0.814672   196.810811        0  \n",
       "1747         0.059633    36.885321        6  \n",
       "2210         0.020151    46.188917        5  \n",
       "2445         1.500000   203.639640        5  \n",
       "2512         0.000000    72.768025        2  \n",
       "...               ...          ...      ...  \n",
       "253          0.000000     0.000000        0  \n",
       "259          0.000000     0.000000        0  \n",
       "260          0.000000     0.000000        0  \n",
       "261          0.000000     0.000000        0  \n",
       "262          0.000000     0.000000        0  \n",
       "\n",
       "[1779 rows x 7 columns]"
      ]
     },
     "execution_count": 13,
     "metadata": {},
     "output_type": "execute_result"
    }
   ],
   "source": [
    "final_df"
   ]
  },
  {
   "cell_type": "code",
   "execution_count": 14,
   "metadata": {},
   "outputs": [
    {
     "name": "stderr",
     "output_type": "stream",
     "text": [
      "/usr/local/lib/python3.6/dist-packages/ipykernel_launcher.py:2: SettingWithCopyWarning:\n",
      "\n",
      "\n",
      "A value is trying to be set on a copy of a slice from a DataFrame.\n",
      "Try using .loc[row_indexer,col_indexer] = value instead\n",
      "\n",
      "See the caveats in the documentation: http://pandas.pydata.org/pandas-docs/stable/user_guide/indexing.html#returning-a-view-versus-a-copy\n",
      "\n"
     ]
    }
   ],
   "source": [
    "tmp = comments[[\"commenter\", \"comment_created_time_str\"]]\n",
    "tmp[\"hour\"] = tmp.comment_created_time_str.apply(lambda item: parser.parse(item).hour)\n",
    "tmp = tmp.groupby([\"commenter\", \"hour\"], as_index=False).agg(\"count\")\n",
    "\n",
    "to_hour = {}\n",
    "for commenter, hour, freq in tmp.values:\n",
    "    if not commenter in to_hour:\n",
    "        to_hour[commenter] = (0, 0)\n",
    "    \n",
    "    update_dict(to_hour, commenter, hour, freq)\n",
    "    \n",
    "final_df[\"hour\"] = final_df.commenter.apply(lambda commenter: to_hour.get(commenter, [0])[0])\n",
    "\n",
    "del tmp, to_hour"
   ]
  },
  {
   "cell_type": "code",
   "execution_count": 15,
   "metadata": {},
   "outputs": [],
   "source": [
    "final_df[\"is_tracked\"] = 0"
   ]
  },
  {
   "cell_type": "code",
   "execution_count": 16,
   "metadata": {},
   "outputs": [
    {
     "data": {
      "text/html": [
       "<div>\n",
       "<style scoped>\n",
       "    .dataframe tbody tr th:only-of-type {\n",
       "        vertical-align: middle;\n",
       "    }\n",
       "\n",
       "    .dataframe tbody tr th {\n",
       "        vertical-align: top;\n",
       "    }\n",
       "\n",
       "    .dataframe thead th {\n",
       "        text-align: right;\n",
       "    }\n",
       "</style>\n",
       "<table border=\"1\" class=\"dataframe\">\n",
       "  <thead>\n",
       "    <tr style=\"text-align: right;\">\n",
       "      <th></th>\n",
       "      <th>commenter</th>\n",
       "      <th>comments_nb</th>\n",
       "      <th>categories_nb</th>\n",
       "      <th>avg_tags_nb</th>\n",
       "      <th>avg_cited_users</th>\n",
       "      <th>avg_msg_len</th>\n",
       "      <th>weekday</th>\n",
       "      <th>hour</th>\n",
       "      <th>is_tracked</th>\n",
       "    </tr>\n",
       "  </thead>\n",
       "  <tbody>\n",
       "    <tr>\n",
       "      <td>687</td>\n",
       "      <td>0591_aleinad</td>\n",
       "      <td>259</td>\n",
       "      <td>1</td>\n",
       "      <td>0.000000</td>\n",
       "      <td>0.814672</td>\n",
       "      <td>196.810811</td>\n",
       "      <td>0</td>\n",
       "      <td>16</td>\n",
       "      <td>0</td>\n",
       "    </tr>\n",
       "    <tr>\n",
       "      <td>1747</td>\n",
       "      <td>102.7245</td>\n",
       "      <td>218</td>\n",
       "      <td>2</td>\n",
       "      <td>0.000000</td>\n",
       "      <td>0.059633</td>\n",
       "      <td>36.885321</td>\n",
       "      <td>6</td>\n",
       "      <td>12</td>\n",
       "      <td>0</td>\n",
       "    </tr>\n",
       "    <tr>\n",
       "      <td>2210</td>\n",
       "      <td>11luisella</td>\n",
       "      <td>397</td>\n",
       "      <td>1</td>\n",
       "      <td>0.020151</td>\n",
       "      <td>0.020151</td>\n",
       "      <td>46.188917</td>\n",
       "      <td>5</td>\n",
       "      <td>12</td>\n",
       "      <td>0</td>\n",
       "    </tr>\n",
       "    <tr>\n",
       "      <td>2445</td>\n",
       "      <td>12nycole</td>\n",
       "      <td>222</td>\n",
       "      <td>2</td>\n",
       "      <td>1.648649</td>\n",
       "      <td>1.500000</td>\n",
       "      <td>203.639640</td>\n",
       "      <td>5</td>\n",
       "      <td>12</td>\n",
       "      <td>0</td>\n",
       "    </tr>\n",
       "    <tr>\n",
       "      <td>2512</td>\n",
       "      <td>1340cc.engine</td>\n",
       "      <td>319</td>\n",
       "      <td>2</td>\n",
       "      <td>0.000000</td>\n",
       "      <td>0.000000</td>\n",
       "      <td>72.768025</td>\n",
       "      <td>2</td>\n",
       "      <td>9</td>\n",
       "      <td>0</td>\n",
       "    </tr>\n",
       "  </tbody>\n",
       "</table>\n",
       "</div>"
      ],
      "text/plain": [
       "          commenter  comments_nb  categories_nb  avg_tags_nb  avg_cited_users  \\\n",
       "687    0591_aleinad          259              1     0.000000         0.814672   \n",
       "1747       102.7245          218              2     0.000000         0.059633   \n",
       "2210     11luisella          397              1     0.020151         0.020151   \n",
       "2445       12nycole          222              2     1.648649         1.500000   \n",
       "2512  1340cc.engine          319              2     0.000000         0.000000   \n",
       "\n",
       "      avg_msg_len  weekday  hour  is_tracked  \n",
       "687    196.810811        0    16           0  \n",
       "1747    36.885321        6    12           0  \n",
       "2210    46.188917        5    12           0  \n",
       "2445   203.639640        5    12           0  \n",
       "2512    72.768025        2     9           0  "
      ]
     },
     "execution_count": 16,
     "metadata": {},
     "output_type": "execute_result"
    }
   ],
   "source": [
    "final_df.head(5)"
   ]
  },
  {
   "cell_type": "code",
   "execution_count": 17,
   "metadata": {},
   "outputs": [],
   "source": [
    "cols = set(final_df.columns).union(profiles.columns)\n",
    "for col in cols:\n",
    "    if not col in final_df.columns and col != \"profile_username\":\n",
    "        final_df[col] = 0\n",
    "    if not col in profiles.columns and col != \"commenter\":\n",
    "        profiles[col] = 0\n",
    "\n",
    "n_features = len(set(final_df.columns).union(profiles.columns))"
   ]
  },
  {
   "cell_type": "code",
   "execution_count": 18,
   "metadata": {},
   "outputs": [],
   "source": [
    "final_df.rename(columns={'commenter':'profile_username'}, inplace=True)\n",
    "final_df = final_df.reindex(sorted(final_df.columns), axis=1)\n",
    "profiles = profiles.reindex(sorted(profiles.columns), axis=1)\n",
    "\n",
    "cols = profiles.columns"
   ]
  },
  {
   "cell_type": "code",
   "execution_count": 19,
   "metadata": {},
   "outputs": [
    {
     "data": {
      "text/html": [
       "<div>\n",
       "<style scoped>\n",
       "    .dataframe tbody tr th:only-of-type {\n",
       "        vertical-align: middle;\n",
       "    }\n",
       "\n",
       "    .dataframe tbody tr th {\n",
       "        vertical-align: top;\n",
       "    }\n",
       "\n",
       "    .dataframe thead th {\n",
       "        text-align: right;\n",
       "    }\n",
       "</style>\n",
       "<table border=\"1\" class=\"dataframe\">\n",
       "  <thead>\n",
       "    <tr style=\"text-align: right;\">\n",
       "      <th></th>\n",
       "      <th>avg_cited_users</th>\n",
       "      <th>avg_msg_len</th>\n",
       "      <th>avg_tags_nb</th>\n",
       "      <th>categories_nb</th>\n",
       "      <th>category_1</th>\n",
       "      <th>comments_commenters_nb</th>\n",
       "      <th>comments_nb</th>\n",
       "      <th>comments_self_nb</th>\n",
       "      <th>hour</th>\n",
       "      <th>is_tracked</th>\n",
       "      <th>medias_nb</th>\n",
       "      <th>profile_follow</th>\n",
       "      <th>profile_followed_by</th>\n",
       "      <th>profile_username</th>\n",
       "      <th>weekday</th>\n",
       "    </tr>\n",
       "  </thead>\n",
       "  <tbody>\n",
       "    <tr>\n",
       "      <td>687</td>\n",
       "      <td>0.814672</td>\n",
       "      <td>196.810811</td>\n",
       "      <td>0.0</td>\n",
       "      <td>1</td>\n",
       "      <td>0</td>\n",
       "      <td>0</td>\n",
       "      <td>259</td>\n",
       "      <td>0</td>\n",
       "      <td>16</td>\n",
       "      <td>0</td>\n",
       "      <td>0</td>\n",
       "      <td>0</td>\n",
       "      <td>0</td>\n",
       "      <td>0591_aleinad</td>\n",
       "      <td>0</td>\n",
       "    </tr>\n",
       "  </tbody>\n",
       "</table>\n",
       "</div>"
      ],
      "text/plain": [
       "     avg_cited_users  avg_msg_len  avg_tags_nb  categories_nb  category_1  \\\n",
       "687         0.814672   196.810811          0.0              1           0   \n",
       "\n",
       "     comments_commenters_nb  comments_nb  comments_self_nb  hour  is_tracked  \\\n",
       "687                       0          259                 0    16           0   \n",
       "\n",
       "     medias_nb  profile_follow  profile_followed_by profile_username  weekday  \n",
       "687          0               0                    0     0591_aleinad        0  "
      ]
     },
     "execution_count": 19,
     "metadata": {},
     "output_type": "execute_result"
    }
   ],
   "source": [
    "final_df.head(1)"
   ]
  },
  {
   "cell_type": "code",
   "execution_count": 20,
   "metadata": {},
   "outputs": [],
   "source": [
    "user_dict = {values[-2]: values for values in profiles.values}"
   ]
  },
  {
   "cell_type": "code",
   "execution_count": 21,
   "metadata": {},
   "outputs": [],
   "source": [
    "remaining_users = list(set(profiles.profile_username) - set(final_df.profile_username))\n",
    "\n",
    "profiles = profiles[profiles.profile_username.isin(remaining_users)].values\n",
    "final_df = final_df.values"
   ]
  },
  {
   "cell_type": "code",
   "execution_count": 22,
   "metadata": {},
   "outputs": [],
   "source": [
    "def merge_row(row1, row2):\n",
    "    for i in range(row1.size):\n",
    "        if type(row2[i]) is str:\n",
    "            row1[i] = row2[i]\n",
    "        elif type(row1[i]) is str:\n",
    "            continue\n",
    "        elif row1[i] == 0:\n",
    "            row1[i] += row2[i]"
   ]
  },
  {
   "cell_type": "code",
   "execution_count": 23,
   "metadata": {},
   "outputs": [],
   "source": [
    "for row in final_df:\n",
    "    name = row[-2]\n",
    "    if name in user_dict:\n",
    "        merge_row(row, user_dict[name])\n",
    "\n",
    "list(final_df).append(profiles)"
   ]
  },
  {
   "cell_type": "code",
   "execution_count": 24,
   "metadata": {},
   "outputs": [],
   "source": [
    "final_df = pd.DataFrame(final_df, columns=cols)"
   ]
  },
  {
   "cell_type": "code",
   "execution_count": 25,
   "metadata": {},
   "outputs": [
    {
     "data": {
      "text/html": [
       "<div>\n",
       "<style scoped>\n",
       "    .dataframe tbody tr th:only-of-type {\n",
       "        vertical-align: middle;\n",
       "    }\n",
       "\n",
       "    .dataframe tbody tr th {\n",
       "        vertical-align: top;\n",
       "    }\n",
       "\n",
       "    .dataframe thead th {\n",
       "        text-align: right;\n",
       "    }\n",
       "</style>\n",
       "<table border=\"1\" class=\"dataframe\">\n",
       "  <thead>\n",
       "    <tr style=\"text-align: right;\">\n",
       "      <th></th>\n",
       "      <th>avg_cited_users</th>\n",
       "      <th>avg_msg_len</th>\n",
       "      <th>avg_tags_nb</th>\n",
       "      <th>categories_nb</th>\n",
       "      <th>category_1</th>\n",
       "      <th>comments_commenters_nb</th>\n",
       "      <th>comments_nb</th>\n",
       "      <th>comments_self_nb</th>\n",
       "      <th>hour</th>\n",
       "      <th>is_tracked</th>\n",
       "      <th>medias_nb</th>\n",
       "      <th>profile_follow</th>\n",
       "      <th>profile_followed_by</th>\n",
       "      <th>profile_username</th>\n",
       "      <th>weekday</th>\n",
       "    </tr>\n",
       "  </thead>\n",
       "  <tbody>\n",
       "    <tr>\n",
       "      <td>0</td>\n",
       "      <td>0.814672</td>\n",
       "      <td>196.811</td>\n",
       "      <td>0</td>\n",
       "      <td>1</td>\n",
       "      <td>0</td>\n",
       "      <td>0</td>\n",
       "      <td>259</td>\n",
       "      <td>0</td>\n",
       "      <td>16</td>\n",
       "      <td>0</td>\n",
       "      <td>0</td>\n",
       "      <td>0</td>\n",
       "      <td>0</td>\n",
       "      <td>0591_aleinad</td>\n",
       "      <td>0</td>\n",
       "    </tr>\n",
       "  </tbody>\n",
       "</table>\n",
       "</div>"
      ],
      "text/plain": [
       "  avg_cited_users avg_msg_len avg_tags_nb categories_nb category_1  \\\n",
       "0        0.814672     196.811           0             1          0   \n",
       "\n",
       "  comments_commenters_nb comments_nb comments_self_nb hour is_tracked  \\\n",
       "0                      0         259                0   16          0   \n",
       "\n",
       "  medias_nb profile_follow profile_followed_by profile_username weekday  \n",
       "0         0              0                   0     0591_aleinad       0  "
      ]
     },
     "execution_count": 25,
     "metadata": {},
     "output_type": "execute_result"
    }
   ],
   "source": [
    "final_df.head(1)"
   ]
  },
  {
   "cell_type": "code",
   "execution_count": 26,
   "metadata": {},
   "outputs": [],
   "source": [
    "final_df.to_csv(\"../data/new_profiles_{}t.csv\".format(threshold))"
   ]
  },
  {
   "cell_type": "code",
   "execution_count": 27,
   "metadata": {},
   "outputs": [],
   "source": [
    "users = final_df.profile_username.values\n",
    "comments = pd.read_csv(\"../data/comments.csv\", usecols=[\"media_short_code\", \"media_author\", \"commenter\"])\n",
    "comments = comments[(comments.commenter.isin(users)) & (comments.media_author.isin(users))]"
   ]
  },
  {
   "cell_type": "code",
   "execution_count": 31,
   "metadata": {},
   "outputs": [
    {
     "data": {
      "text/html": [
       "<div>\n",
       "<style scoped>\n",
       "    .dataframe tbody tr th:only-of-type {\n",
       "        vertical-align: middle;\n",
       "    }\n",
       "\n",
       "    .dataframe tbody tr th {\n",
       "        vertical-align: top;\n",
       "    }\n",
       "\n",
       "    .dataframe thead th {\n",
       "        text-align: right;\n",
       "    }\n",
       "</style>\n",
       "<table border=\"1\" class=\"dataframe\">\n",
       "  <thead>\n",
       "    <tr style=\"text-align: right;\">\n",
       "      <th></th>\n",
       "      <th>media_short_code</th>\n",
       "      <th>media_author</th>\n",
       "      <th>commenter</th>\n",
       "    </tr>\n",
       "  </thead>\n",
       "  <tbody>\n",
       "    <tr>\n",
       "      <td>682</td>\n",
       "      <td>Bvs4Nh_HT1L</td>\n",
       "      <td>chefaticalavitadabomber</td>\n",
       "      <td>marchi93</td>\n",
       "    </tr>\n",
       "  </tbody>\n",
       "</table>\n",
       "</div>"
      ],
      "text/plain": [
       "    media_short_code             media_author commenter\n",
       "682      Bvs4Nh_HT1L  chefaticalavitadabomber  marchi93"
      ]
     },
     "execution_count": 31,
     "metadata": {},
     "output_type": "execute_result"
    }
   ],
   "source": [
    "comments.head(1)"
   ]
  },
  {
   "cell_type": "code",
   "execution_count": 28,
   "metadata": {},
   "outputs": [],
   "source": [
    "comments.to_csv(\"../data/new_comments_{}t.csv\".format(threshold))"
   ]
  }
 ],
 "metadata": {
  "kernelspec": {
   "display_name": "Python 3",
   "language": "python",
   "name": "python3"
  },
  "language_info": {
   "codemirror_mode": {
    "name": "ipython",
    "version": 3
   },
   "file_extension": ".py",
   "mimetype": "text/x-python",
   "name": "python",
   "nbconvert_exporter": "python",
   "pygments_lexer": "ipython3",
   "version": "3.6.8"
  }
 },
 "nbformat": 4,
 "nbformat_minor": 2
}
